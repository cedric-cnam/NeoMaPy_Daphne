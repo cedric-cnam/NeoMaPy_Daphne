{
 "cells": [
  {
   "cell_type": "markdown",
   "id": "a876803f",
   "metadata": {},
   "source": [
    "# Neo4J"
   ]
  },
  {
   "cell_type": "markdown",
   "id": "c933f47c",
   "metadata": {},
   "source": [
    "## Préliminaires"
   ]
  },
  {
   "cell_type": "code",
   "execution_count": 1,
   "id": "387be53b",
   "metadata": {},
   "outputs": [],
   "source": [
    "from neo4j import GraphDatabase\n",
    "\n",
    "class Neo4jConnection:\n",
    "    def __init__(self, uri, user, pwd):\n",
    "        self.__uri = uri\n",
    "        self.__user = user\n",
    "        self.__pwd = pwd\n",
    "        self.__driver = None\n",
    "        try:\n",
    "            self.__driver = GraphDatabase.driver(self.__uri, \n",
    "auth=(self.__user, self.__pwd))\n",
    "        except Exception as e:\n",
    "            print(\"Failed to create the driver:\", e)\n",
    "    def close(self):\n",
    "        if self.__driver is not None:\n",
    "            self.__driver.close()\n",
    "    def query(self, query, db=None):\n",
    "        assert self.__driver is not None, \"Driver not initialized!\"\n",
    "        session = None\n",
    "        response = None\n",
    "        try: \n",
    "            session = self.__driver.session(database=db) if db is not None else self.__driver.session() \n",
    "            response = list(session.run(query))\n",
    "        except Exception as e:\n",
    "            print(\"Query failed:\", e)\n",
    "        finally: \n",
    "            if session is not None:\n",
    "                session.close()\n",
    "        return response"
   ]
  },
  {
   "cell_type": "markdown",
   "id": "8f38347a",
   "metadata": {},
   "source": [
    "## Création de la connexion, de la DB"
   ]
  },
  {
   "cell_type": "code",
   "execution_count": 3,
   "id": "ec1d30a1",
   "metadata": {},
   "outputs": [
    {
     "name": "stdout",
     "output_type": "stream",
     "text": [
      "connexion établie\n"
     ]
    }
   ],
   "source": [
    "try:\n",
    "    conn = Neo4jConnection(uri=\"bolt://localhost:11004\", user=\"daphne\", pwd=\"daphnetest\")\n",
    "except Exception as e:\n",
    "    print(\"Query failed:\", e)\n",
    "print(\"connexion établie\")"
   ]
  },
  {
   "cell_type": "code",
   "execution_count": 4,
   "id": "e05048a6",
   "metadata": {},
   "outputs": [
    {
     "name": "stdout",
     "output_type": "stream",
     "text": [
      "create or replace db done\n"
     ]
    }
   ],
   "source": [
    "conn.query(\"CREATE OR REPLACE DATABASE coradb\")\n",
    "print(\"create or replace db done\")"
   ]
  },
  {
   "cell_type": "markdown",
   "id": "ab419bde",
   "metadata": {},
   "source": [
    "## Le graphe"
   ]
  },
  {
   "cell_type": "markdown",
   "id": "38936db8",
   "metadata": {},
   "source": [
    "### nœuds"
   ]
  },
  {
   "cell_type": "code",
   "execution_count": 5,
   "id": "cb4a4cd4",
   "metadata": {},
   "outputs": [],
   "source": [
    "query_string = '''\n",
    "USING PERIODIC COMMIT 500\n",
    "LOAD CSV WITH HEADERS FROM\n",
    "'https://raw.githubusercontent.com/ngshya/datasets/master/cora/cora_content.csv'\n",
    "AS line FIELDTERMINATOR ','\n",
    "CREATE (:Paper {id: line.paper_id, class: line.label})\n",
    "'''"
   ]
  },
  {
   "cell_type": "code",
   "execution_count": 6,
   "id": "78b50275",
   "metadata": {},
   "outputs": [
    {
     "name": "stdout",
     "output_type": "stream",
     "text": [
      "created nodes\n"
     ]
    }
   ],
   "source": [
    "conn.query(query_string, db='coradb')\n",
    "print(\"created nodes\")"
   ]
  },
  {
   "cell_type": "markdown",
   "id": "6a6f078e",
   "metadata": {},
   "source": [
    "### arêtes"
   ]
  },
  {
   "cell_type": "code",
   "execution_count": 7,
   "id": "12ea97a7",
   "metadata": {},
   "outputs": [],
   "source": [
    "query_string = '''\n",
    "USING PERIODIC COMMIT 500\n",
    "LOAD CSV WITH HEADERS FROM\n",
    "'https://raw.githubusercontent.com/ngshya/datasets/master/cora/cora_cites.csv'\n",
    "AS line FIELDTERMINATOR ','\n",
    "MATCH (citing_paper:Paper {id: line.citing_paper_id}),(cited_paper:Paper {id: line.cited_paper_id})\n",
    "CREATE (citing_paper)-[:CITES]->(cited_paper)\n",
    "'''"
   ]
  },
  {
   "cell_type": "code",
   "execution_count": 8,
   "id": "f3c9310a",
   "metadata": {},
   "outputs": [
    {
     "name": "stdout",
     "output_type": "stream",
     "text": [
      "created edges\n"
     ]
    }
   ],
   "source": [
    "conn.query(query_string, db='coradb')\n",
    "print(\"created edges\")"
   ]
  },
  {
   "cell_type": "markdown",
   "id": "368717fb",
   "metadata": {},
   "source": [
    "### attributs"
   ]
  },
  {
   "cell_type": "markdown",
   "id": "c47a77e4",
   "metadata": {},
   "source": [
    "Classes d'articles (améliorer la sortie ?)"
   ]
  },
  {
   "cell_type": "code",
   "execution_count": 9,
   "id": "a3d83d71",
   "metadata": {},
   "outputs": [],
   "source": [
    "query_string = '''\n",
    "MATCH (p:Paper)\n",
    "RETURN DISTINCT p.class\n",
    "ORDER BY p.class\n",
    "'''"
   ]
  },
  {
   "cell_type": "code",
   "execution_count": 13,
   "id": "5d52b07b",
   "metadata": {},
   "outputs": [
    {
     "name": "stdout",
     "output_type": "stream",
     "text": [
      "match classes: done.\n"
     ]
    }
   ],
   "source": [
    "conn.query(query_string, db='coradb')\n",
    "print(\"match classes: done.\")"
   ]
  },
  {
   "cell_type": "markdown",
   "id": "0c4cc672",
   "metadata": {},
   "source": [
    "Articles les plus cités"
   ]
  },
  {
   "cell_type": "code",
   "execution_count": 11,
   "id": "adaba9c1",
   "metadata": {},
   "outputs": [],
   "source": [
    "query_string = '''\n",
    "MATCH ()-->(p:Paper) \n",
    "RETURN id(p), count(*) as indegree \n",
    "ORDER BY indegree DESC LIMIT 10\n",
    "'''"
   ]
  },
  {
   "cell_type": "code",
   "execution_count": 14,
   "id": "f1eb5ef6",
   "metadata": {},
   "outputs": [
    {
     "name": "stdout",
     "output_type": "stream",
     "text": [
      "most cited papers: done.\n"
     ]
    }
   ],
   "source": [
    "conn.query(query_string, db='coradb')\n",
    "print(\"most cited papers: done.\")"
   ]
  },
  {
   "cell_type": "markdown",
   "id": "2be9eab6",
   "metadata": {},
   "source": [
    "### Créer le graphe"
   ]
  },
  {
   "cell_type": "code",
   "execution_count": 15,
   "id": "8d7bc482",
   "metadata": {},
   "outputs": [],
   "source": [
    "query_string = '''\n",
    "CALL gds.graph.create(\n",
    "  'coraGraph',\n",
    "  'Paper',\n",
    "  'CITES'\n",
    ")\n",
    "'''"
   ]
  },
  {
   "cell_type": "code",
   "execution_count": 16,
   "id": "e69251c6",
   "metadata": {},
   "outputs": [
    {
     "data": {
      "text/plain": [
       "[<Record nodeProjection={'Paper': {'label': 'Paper', 'properties': {}}} relationshipProjection={'CITES': {'orientation': 'NATURAL', 'aggregation': 'DEFAULT', 'type': 'CITES', 'properties': {}}} graphName='coraGraph' nodeCount=2708 relationshipCount=5429 createMillis=40>]"
      ]
     },
     "execution_count": 16,
     "metadata": {},
     "output_type": "execute_result"
    }
   ],
   "source": [
    "conn.query(query_string, db='coradb')"
   ]
  },
  {
   "cell_type": "markdown",
   "id": "06574674",
   "metadata": {},
   "source": [
    "## Analyse"
   ]
  },
  {
   "cell_type": "markdown",
   "id": "22ccd9c3",
   "metadata": {},
   "source": [
    "### PageRank"
   ]
  },
  {
   "cell_type": "code",
   "execution_count": 17,
   "id": "91b7f25b",
   "metadata": {},
   "outputs": [
    {
     "name": "stdout",
     "output_type": "stream",
     "text": [
      "pageRanking...\n",
      "...done\n"
     ]
    }
   ],
   "source": [
    "# page rank\n",
    "print(\"pageRanking...\")\n",
    "\n",
    "query_string = '''\n",
    "CALL gds.pageRank.write('coraGraph', {\n",
    "  writeProperty: 'pagerank'\n",
    "})\n",
    "YIELD nodePropertiesWritten, ranIterations\n",
    "'''\n",
    "conn.query(query_string, db='coradb')\n",
    "print(\"...done\")"
   ]
  },
  {
   "cell_type": "markdown",
   "id": "4fc0a97e",
   "metadata": {},
   "source": [
    "### Betweeness"
   ]
  },
  {
   "cell_type": "code",
   "execution_count": 18,
   "id": "00b8ef25",
   "metadata": {},
   "outputs": [
    {
     "data": {
      "text/plain": [
       "[<Record minimumScore=0.0 maximumScore=9523.5 scoreSum=179657.00000000003 nodePropertiesWritten=2708>]"
      ]
     },
     "execution_count": 18,
     "metadata": {},
     "output_type": "execute_result"
    }
   ],
   "source": [
    "query_string = '''\n",
    "CALL gds.betweenness.write('coraGraph', { \n",
    "  writeProperty: 'betweenness' })\n",
    "YIELD minimumScore, maximumScore, scoreSum, nodePropertiesWritten\n",
    "'''\n",
    "conn.query(query_string, db='coradb')"
   ]
  },
  {
   "cell_type": "markdown",
   "id": "7e8ff82b",
   "metadata": {},
   "source": [
    "## Avec Pandas"
   ]
  },
  {
   "cell_type": "code",
   "execution_count": 19,
   "id": "ffa0d008",
   "metadata": {},
   "outputs": [],
   "source": [
    "from pandas import DataFrame"
   ]
  },
  {
   "cell_type": "code",
   "execution_count": 20,
   "id": "89245c8d",
   "metadata": {},
   "outputs": [],
   "source": [
    "query_string = '''\n",
    "MATCH (p:Paper)\n",
    "RETURN DISTINCT p.id, p.class, p.pagerank, p.betweenness\n",
    "'''"
   ]
  },
  {
   "cell_type": "code",
   "execution_count": 21,
   "id": "c543fd67",
   "metadata": {},
   "outputs": [
    {
     "name": "stdout",
     "output_type": "stream",
     "text": [
      "         p.id             p.class  p.pagerank  p.betweenness\n",
      "1644    22563     Neural_Networks    7.119965        3969.25\n",
      "717    198653  Genetic_Algorithms    2.840305          63.00\n",
      "949   1109439     Neural_Networks    0.150000           0.00\n",
      "1534      936          Case_Based    0.706934           0.00\n",
      "2537     1237     Neural_Networks    0.353605           0.00\n",
      "1134   650807  Genetic_Algorithms    0.277500           0.00\n",
      "40      13982              Theory    1.146035           0.00\n",
      "1093  1136446     Neural_Networks    0.150000           0.00\n",
      "238    119761     Neural_Networks    0.314134          18.00\n",
      "2652     7867          Case_Based    0.503813           3.00\n"
     ]
    }
   ],
   "source": [
    "dtf_data = DataFrame([dict(_) for _ in conn.query(query_string, db='coradb')])\n",
    "print(dtf_data.sample(10))"
   ]
  },
  {
   "cell_type": "code",
   "execution_count": null,
   "id": "7ef32567",
   "metadata": {},
   "outputs": [],
   "source": [
    "conn.close()"
   ]
  }
 ],
 "metadata": {
  "kernelspec": {
   "display_name": "Python 3 (ipykernel)",
   "language": "python",
   "name": "python3"
  },
  "language_info": {
   "codemirror_mode": {
    "name": "ipython",
    "version": 3
   },
   "file_extension": ".py",
   "mimetype": "text/x-python",
   "name": "python",
   "nbconvert_exporter": "python",
   "pygments_lexer": "ipython3",
   "version": "3.10.4"
  },
  "toc": {
   "base_numbering": 1,
   "nav_menu": {},
   "number_sections": true,
   "sideBar": true,
   "skip_h1_title": true,
   "title_cell": "Table of Contents",
   "title_sidebar": "Contents",
   "toc_cell": false,
   "toc_position": {},
   "toc_section_display": true,
   "toc_window_display": true
  }
 },
 "nbformat": 4,
 "nbformat_minor": 5
}
